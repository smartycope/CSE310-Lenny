{
  "cells": [
    {
      "cell_type": "markdown",
      "metadata": {
        "id": "-prIxCiGJxlm"
      },
      "source": [
        "# Deep Deterministic Policy Gradient (DDPG)"
      ]
    },
    {
      "cell_type": "markdown",
      "metadata": {
        "id": "mtbqSHEVJxlq"
      },
      "source": [
        "## Introduction\n",
        "\n",
        "**Deep Deterministic Policy Gradient (DDPG)** is a model-free off-policy algorithm for\n",
        "learning continous actions.\n",
        "\n",
        "It combines ideas from DPG (Deterministic Policy Gradient) and DQN (Deep Q-Network).\n",
        "It uses Experience Replay and slow-learning target networks from DQN, and it is based on\n",
        "DPG,\n",
        "which can operate over continuous action spaces.\n",
        "\n",
        "This tutorial closely follow this paper -\n",
        "[Continuous control with deep reinforcement learning](https://arxiv.org/pdf/1509.02971.pdf)\n",
        "\n",
        "## Problem\n",
        "\n",
        "We are trying to solve the classic **Inverted Pendulum** control problem.\n",
        "In this setting, we can take only two actions: swing left or swing right.\n",
        "\n",
        "What make this problem challenging for Q-Learning Algorithms is that actions\n",
        "are **continuous** instead of being **discrete**. That is, instead of using two\n",
        "discrete actions like `-1` or `+1`, we have to select from infinite actions\n",
        "ranging from `-2` to `+2`.\n",
        "\n",
        "## Quick theory\n",
        "\n",
        "Just like the Actor-Critic method, we have two networks:\n",
        "\n",
        "1. Actor - It proposes an action given a state.\n",
        "2. Critic - It predicts if the action is good (positive value) or bad (negative value)\n",
        "given a state and an action.\n",
        "\n",
        "DDPG uses two more techniques not present in the original DQN:\n",
        "\n",
        "**First, it uses two Target networks.**\n",
        "\n",
        "**Why?** Because it add stability to training. In short, we are learning from estimated\n",
        "targets and Target networks are updated slowly, hence keeping our estimated targets\n",
        "stable.\n",
        "\n",
        "Conceptually, this is like saying, \"I have an idea of how to play this well,\n",
        "I'm going to try it out for a bit until I find something better\",\n",
        "as opposed to saying \"I'm going to re-learn how to play this entire game after every\n",
        "move\".\n",
        "See this [StackOverflow answer](https://stackoverflow.com/a/54238556/13475679).\n",
        "\n",
        "**Second, it uses Experience Replay.**\n",
        "\n",
        "We store list of tuples `(state, action, reward, next_state)`, and instead of\n",
        "learning only from recent experience, we learn from sampling all of our experience\n",
        "accumulated so far.\n",
        "\n",
        "Now, let's see how is it implemented."
      ]
    },
    {
      "cell_type": "code",
      "execution_count": 320,
      "metadata": {},
      "outputs": [
        {
          "name": "stdout",
          "output_type": "stream",
          "text": [
            "The autoreload extension is already loaded. To reload it, use:\n",
            "  %reload_ext autoreload\n"
          ]
        }
      ],
      "source": [
        "%load_ext autoreload\n",
        "%autoreload 2"
      ]
    },
    {
      "cell_type": "code",
      "execution_count": 321,
      "metadata": {
        "id": "fiSlHr6hJxlr"
      },
      "outputs": [],
      "source": [
        "# Imports\n",
        "import gymnasium as gym\n",
        "import tensorflow as tf\n",
        "from tensorflow.keras import layers\n",
        "import numpy as np\n",
        "import time\n",
        "import matplotlib.pyplot as plt\n",
        "from cartpole import CartPoleEnv\n",
        "import random"
      ]
    },
    {
      "cell_type": "markdown",
      "metadata": {
        "id": "rXkhVHnkJxls"
      },
      "source": [
        "We use [OpenAIGym](http://gym.openai.com/docs) to create the environment.\n",
        "We will use the `upper_bound` parameter to scale our actions later."
      ]
    },
    {
      "cell_type": "code",
      "execution_count": 322,
      "metadata": {
        "id": "RmLtxQ4_Jxlt"
      },
      "outputs": [
        {
          "name": "stdout",
          "output_type": "stream",
          "text": [
            "Size of State Space: 2\n",
            "Size of Action Space: 1\n",
            "Max Value of Action: 1.0\n",
            "Min Value of Action: -1.0\n"
          ]
        }
      ],
      "source": [
        "# Enviorment setup\n",
        "env = CartPoleEnv(force=1.5, fps=20, start_angle_range=.07, bounds_size=1.5)\n",
        "\n",
        "num_states = env.observation_space.shape[0]\n",
        "num_actions = env.action_space.shape[0]\n",
        "upper_bound = env.action_space.high[0]\n",
        "lower_bound = env.action_space.low[0]\n",
        "\n",
        "print(f\"Size of State Space: {num_states}\")\n",
        "print(f\"Size of Action Space: {num_actions}\")\n",
        "print(f\"Max Value of Action: {upper_bound}\")\n",
        "print(f\"Min Value of Action: {lower_bound}\")"
      ]
    },
    {
      "cell_type": "markdown",
      "metadata": {
        "id": "vdsVit7fJxlu"
      },
      "source": [
        "The `Buffer` class implements Experience Replay.\n",
        "\n",
        "---\n",
        "![Algorithm](https://i.imgur.com/mS6iGyJ.jpg)\n",
        "---\n",
        "\n",
        "\n",
        "**Critic loss** - Mean Squared Error of `y - Q(s, a)`\n",
        "where `y` is the expected return as seen by the Target network,\n",
        "and `Q(s, a)` is action value predicted by the Critic network. `y` is a moving target\n",
        "that the critic model tries to achieve; we make this target\n",
        "stable by updating the Target model slowly.\n",
        "\n",
        "**Actor loss** - This is computed using the mean of the value given by the Critic network\n",
        "for the actions taken by the Actor network. We seek to maximize this quantity.\n",
        "\n",
        "Hence we update the Actor network so that it produces actions that get\n",
        "the maximum predicted value as seen by the Critic, for a given state."
      ]
    },
    {
      "cell_type": "code",
      "execution_count": 323,
      "metadata": {
        "id": "-P0XRgsCJxlv"
      },
      "outputs": [],
      "source": [
        "class Buffer:\n",
        "    \"\"\" Don't touch this \"\"\"\n",
        "    def __init__(self, buffer_capacity=100000, batch_size=64):\n",
        "        # Number of \"experiences\" to store at max\n",
        "        self.buffer_capacity = buffer_capacity\n",
        "        # Num of tuples to train on.\n",
        "        self.batch_size = batch_size\n",
        "\n",
        "        # Its tells us num of times record() was called.\n",
        "        self.buffer_counter = 0\n",
        "\n",
        "        # Instead of list of tuples as the exp.replay concept go\n",
        "        # We use different np.arrays for each tuple element\n",
        "        self.state_buffer = np.zeros((self.buffer_capacity, num_states))\n",
        "        self.action_buffer = np.zeros((self.buffer_capacity, num_actions))\n",
        "        self.reward_buffer = np.zeros((self.buffer_capacity, 1))\n",
        "        self.next_state_buffer = np.zeros((self.buffer_capacity, num_states))\n",
        "\n",
        "    # Takes (s,a,r,s') obervation tuple as input\n",
        "    def record(self, obs_tuple):\n",
        "        # Set index to zero if buffer_capacity is exceeded,\n",
        "        # replacing old records\n",
        "        index = self.buffer_counter % self.buffer_capacity\n",
        "\n",
        "        self.state_buffer[index] = obs_tuple[0]\n",
        "        self.action_buffer[index] = obs_tuple[1]\n",
        "        self.reward_buffer[index] = obs_tuple[2]\n",
        "        self.next_state_buffer[index] = obs_tuple[3]\n",
        "\n",
        "        self.buffer_counter += 1\n",
        "\n",
        "    # Eager execution is turned on by default in TensorFlow 2. Decorating with tf.function allows\n",
        "    # TensorFlow to build a static graph out of the logic and computations in our function.\n",
        "    # This provides a large speed up for blocks of code that contain many small TensorFlow operations such as this one.\n",
        "    @tf.function\n",
        "    def update(\n",
        "        self, state_batch, action_batch, reward_batch, next_state_batch,\n",
        "    ):\n",
        "        # Training and updating Actor & Critic networks.\n",
        "        # See Pseudo Code.\n",
        "        with tf.GradientTape() as tape:\n",
        "            target_actions = target_actor(next_state_batch, training=True)\n",
        "            y = reward_batch + gamma * target_critic(\n",
        "                [next_state_batch, target_actions], training=True\n",
        "            )\n",
        "            critic_value = critic_model([state_batch, action_batch], training=True)\n",
        "            critic_loss = tf.math.reduce_mean(tf.math.square(y - critic_value))\n",
        "\n",
        "        critic_grad = tape.gradient(critic_loss, critic_model.trainable_variables)\n",
        "        critic_optimizer.apply_gradients(\n",
        "            zip(critic_grad, critic_model.trainable_variables)\n",
        "        )\n",
        "\n",
        "        with tf.GradientTape() as tape:\n",
        "            actions = actor_model(state_batch, training=True)\n",
        "            critic_value = critic_model([state_batch, actions], training=True)\n",
        "            # Used `-value` as we want to maximize the value given\n",
        "            # by the critic for our actions\n",
        "            actor_loss = -tf.math.reduce_mean(critic_value)\n",
        "\n",
        "        actor_grad = tape.gradient(actor_loss, actor_model.trainable_variables)\n",
        "        actor_optimizer.apply_gradients(\n",
        "            zip(actor_grad, actor_model.trainable_variables)\n",
        "        )\n",
        "\n",
        "    # We compute the loss and update parameters\n",
        "    def learn(self):\n",
        "        # Get sampling range\n",
        "        record_range = min(self.buffer_counter, self.buffer_capacity)\n",
        "        # Randomly sample indices\n",
        "        batch_indices = np.random.choice(record_range, self.batch_size)\n",
        "\n",
        "        # Convert to tensors\n",
        "        state_batch = tf.convert_to_tensor(self.state_buffer[batch_indices])\n",
        "        action_batch = tf.convert_to_tensor(self.action_buffer[batch_indices])\n",
        "        reward_batch = tf.convert_to_tensor(self.reward_buffer[batch_indices])\n",
        "        reward_batch = tf.cast(reward_batch, dtype=tf.float32)\n",
        "        next_state_batch = tf.convert_to_tensor(self.next_state_buffer[batch_indices])\n",
        "\n",
        "        self.update(state_batch, action_batch, reward_batch, next_state_batch)\n",
        "\n",
        "\n",
        "# This update target parameters slowly\n",
        "# Based on rate `tau`, which is much less than one.\n",
        "@tf.function\n",
        "def update_target(target_weights, weights, tau):\n",
        "    for (a, b) in zip(target_weights, weights):\n",
        "        a.assign(b * tau + a * (1 - tau))\n"
      ]
    },
    {
      "cell_type": "markdown",
      "metadata": {
        "id": "alNdizGxJxlv"
      },
      "source": [
        "Here we define the Actor and Critic networks. These are basic Dense models\n",
        "with `ReLU` activation.\n",
        "\n",
        "Note: We need the initialization for last layer of the Actor to be between\n",
        "`-0.003` and `0.003` as this prevents us from getting `1` or `-1` output values in\n",
        "the initial stages, which would squash our gradients to zero,\n",
        "as we use the `tanh` activation."
      ]
    },
    {
      "cell_type": "code",
      "execution_count": 324,
      "metadata": {
        "id": "JcmJv9B7Jxlw"
      },
      "outputs": [],
      "source": [
        "# Actor & Critic\n",
        "def get_actor():\n",
        "    # Initialize weights between -3e-3 and 3-e3\n",
        "    last_init = tf.random_uniform_initializer(minval=-0.003, maxval=0.003)\n",
        "\n",
        "    inputs = layers.Input(shape=(num_states,))\n",
        "    out = layers.Dense(256, activation=\"relu\")(inputs)\n",
        "    out = layers.Dense(256, activation=\"relu\")(out)\n",
        "    outputs = layers.Dense(1, activation=\"tanh\", kernel_initializer=last_init)(out)\n",
        "\n",
        "    # Our upper bound is 2.0 for Pendulum.\n",
        "    outputs = outputs * upper_bound\n",
        "    model = tf.keras.Model(inputs, outputs)\n",
        "    return model\n",
        "\n",
        "\n",
        "def get_critic():\n",
        "    # State as input\n",
        "    state_input = layers.Input(shape=(num_states))\n",
        "    state_out = layers.Dense(16, activation=\"relu\")(state_input)\n",
        "    state_out = layers.Dense(32, activation=\"relu\")(state_out)\n",
        "\n",
        "    # Action as input\n",
        "    action_input = layers.Input(shape=(num_actions))\n",
        "    action_out = layers.Dense(32, activation=\"relu\")(action_input)\n",
        "\n",
        "    # Both are passed through seperate layer before concatenating\n",
        "    concat = layers.Concatenate()([state_out, action_out])\n",
        "\n",
        "    out = layers.Dense(256, activation=\"relu\")(concat)\n",
        "    out = layers.Dense(256, activation=\"relu\")(out)\n",
        "    outputs = layers.Dense(1)(out)\n",
        "\n",
        "    # Outputs single value for give state-action\n",
        "    model = tf.keras.Model([state_input, action_input], outputs)\n",
        "\n",
        "    return model\n"
      ]
    },
    {
      "cell_type": "markdown",
      "metadata": {
        "id": "V9OZchV4Jxlw"
      },
      "source": [
        "`policy()` returns an action sampled from our Actor network plus some noise for\n",
        "exploration."
      ]
    },
    {
      "cell_type": "code",
      "execution_count": 325,
      "metadata": {
        "id": "P7PeV6E2Jxlw"
      },
      "outputs": [],
      "source": [
        "def policy(state, noise_func):\n",
        "    sampled_actions = tf.squeeze(actor_model(state))\n",
        "\n",
        "    # Adding noise to action\n",
        "    sampled_actions = sampled_actions.numpy() + noise_func()\n",
        "\n",
        "    # We make sure action is within bounds\n",
        "    legal_action = np.clip(sampled_actions, lower_bound, upper_bound)\n",
        "\n",
        "    return [np.squeeze(legal_action)]\n"
      ]
    },
    {
      "cell_type": "markdown",
      "metadata": {
        "id": "84aR4JjSJxlw"
      },
      "source": [
        "## Training hyperparameters"
      ]
    },
    {
      "cell_type": "code",
      "execution_count": 326,
      "metadata": {
        "id": "A25VQyAEJxlx",
        "notebookRunGroups": {
          "groupValue": "1"
        }
      },
      "outputs": [],
      "source": [
        "# Config\n",
        "# Running this cell resets the weights\n",
        "# Initial: .2 | stable: .2\n",
        "noise = lambda mu=0, std_dev=0.4: random.gauss(mu, std_dev)\n",
        "\n",
        "actor_model = get_actor()\n",
        "critic_model = get_critic()\n",
        "\n",
        "target_actor = get_actor()\n",
        "target_critic = get_critic()\n",
        "\n",
        "# Making the weights equal initially\n",
        "target_actor.set_weights(actor_model.get_weights())\n",
        "target_critic.set_weights(critic_model.get_weights())\n",
        "\n",
        "# Learning rate for actor-critic models\n",
        "critic_lr = 0.002\n",
        "actor_lr = 0.001\n",
        "\n",
        "critic_optimizer = tf.keras.optimizers.Adam(critic_lr)\n",
        "actor_optimizer = tf.keras.optimizers.Adam(actor_lr)\n",
        "\n",
        "# Initial: 100 | stable: 300\n",
        "total_episodes = 300\n",
        "\n",
        "# Discount factor for future rewards\n",
        "# Initial: .99 | stable: .98\n",
        "gamma = 0.99\n",
        "\n",
        "# Used to update target networks\n",
        "# Initial: .005 | stable: .009\n",
        "tau = 0.05\n",
        "\n",
        "# Initial: 40 | stable: 40\n",
        "avg_reward_episodes = 40\n",
        "\n",
        "# Initial: 5000, 64 | stable: 300, 32\n",
        "buffer = Buffer(300, avg_reward_episodes+5)\n",
        "\n",
        "# Show our configuration in the window\n",
        "env.show_strings = [\n",
        "    'Config:',\n",
        "    f'force: {env.force_mag}',\n",
        "    f'gamma: {gamma}',\n",
        "    f'tau: {tau}',\n",
        "    f'buffer cap: {buffer.buffer_capacity}',\n",
        "    f'buffer train size: {buffer.batch_size}',\n",
        "    f'avg of prev: {avg_reward_episodes}',\n",
        "    f'start angle range: {env.start_angle_range}',\n",
        "    f'bounds: {env.x_threshold}',\n",
        "    '-------------------------'\n",
        "]"
      ]
    },
    {
      "cell_type": "code",
      "execution_count": 327,
      "metadata": {
        "notebookRunGroups": {
          "groupValue": "1"
        }
      },
      "outputs": [],
      "source": [
        "# Load the weights, if we have them and we want to\n",
        "if False:\n",
        "    # Save the weights\n",
        "    actor_model.load_weights(\"pendulum_actor.h5\")\n",
        "    critic_model.load_weights(\"pendulum_critic.h5\")\n",
        "\n",
        "    target_actor.load_weights(\"pendulum_target_actor.h5\")\n",
        "    target_critic.load_weights(\"pendulum_target_critic.h5\")"
      ]
    },
    {
      "cell_type": "markdown",
      "metadata": {
        "id": "ILFm3xXLJxlx"
      },
      "source": [
        "Now we implement our main training loop, and iterate over episodes.\n",
        "We sample actions using `policy()` and train with `learn()` at each time step,\n",
        "along with updating the Target networks at a rate `tau`."
      ]
    },
    {
      "cell_type": "code",
      "execution_count": null,
      "metadata": {
        "id": "8Stxw_dQJxlx",
        "notebookRunGroups": {
          "groupValue": "1"
        }
      },
      "outputs": [],
      "source": [
        "# Running the actual loop\n",
        "\n",
        "# To store reward history of each episode\n",
        "ep_reward_list = []\n",
        "# To store average reward history of last few episodes\n",
        "avg_reward_list = []\n",
        "# To store the length of of each episode\n",
        "ep_len_list = []\n",
        "\n",
        "try:\n",
        "    # Takes about 4 min to train\n",
        "    for ep in range(total_episodes):\n",
        "\n",
        "        prev_state, info = env.reset()\n",
        "        episodic_reward = 0\n",
        "        step_count = 0\n",
        "\n",
        "        while True:\n",
        "            step_count += 1\n",
        "\n",
        "            # Don't display until the last half, when things get more interesting\n",
        "            env.render()\n",
        "\n",
        "            tf_prev_state = tf.expand_dims(tf.convert_to_tensor(prev_state), 0)\n",
        "\n",
        "            action = policy(tf_prev_state, noise)\n",
        "\n",
        "            # Recieve state and reward from environment.\n",
        "            state, reward, done, _, info = env.step(action)\n",
        "\n",
        "            buffer.record((prev_state, action, reward, state))\n",
        "            episodic_reward += reward\n",
        "\n",
        "            theta, theta_vel = state\n",
        "            x, x_vel = info\n",
        "            # This is how SimpleGym works. You can print from wherever, but you have to add an\n",
        "            # arbitrary key\n",
        "            env.print['reward'] = f'Reward: {reward:.0f}'\n",
        "            env.print['a'] = f'Theta: {theta:.2f}'\n",
        "            # env.print['b'] = f'Angular Velocity: {theta_vel:.2f}'\n",
        "            # env.print['c'] = f'x: {x:.2f}'\n",
        "            # env.print['d'] = f'velocity: {x_vel:.2f}'\n",
        "\n",
        "            buffer.learn()\n",
        "            update_target(target_actor.variables, actor_model.variables, tau)\n",
        "            update_target(target_critic.variables, critic_model.variables, tau)\n",
        "\n",
        "            # End this episode when `done` is True\n",
        "            if done:\n",
        "                break\n",
        "\n",
        "            prev_state = state\n",
        "\n",
        "        ep_reward_list.append(episodic_reward)\n",
        "        ep_len_list.append(step_count)\n",
        "\n",
        "        # Mean of last 40 episodes\n",
        "        avg_reward = np.mean(ep_reward_list[-avg_reward_episodes:])\n",
        "        env.print['avg'] = f'Avg Reward: {avg_reward:.1f}'\n",
        "        env.print['epi'] = f'Last Episode Len: {step_count}'\n",
        "        env.print['num'] = f'Episode {env.reset_count}/{total_episodes}'\n",
        "        # print(f\"Episode {ep}: Avg Reward = {avg_reward:.2f}, Length = {step_count}\", end='\\r')\n",
        "        avg_reward_list.append(avg_reward)\n",
        "\n",
        "# Make sure the window closes if we finish or if there's an error\n",
        "finally:\n",
        "    # Plotting graph\n",
        "    # Episodes versus Avg. Rewards\n",
        "    # plt.plot(avg_reward_list, label='Avg. Reward')\n",
        "    # plt.plot(np.array(ep_len_list)*5, label='Episode Length', ylim=)\n",
        "    # plt.xlabel(\"Episode\")\n",
        "    # plt.ylabel(\"Avg. Episodic Reward\")\n",
        "    # plt.legend()\n",
        "    # plt.show()\n",
        "    fig, ax1 = plt.subplots()\n",
        "\n",
        "    ax1.plot(avg_reward_list, label='Avg. Reward', color='blue')\n",
        "    ax1.set_xlabel(\"Episode\")\n",
        "    ax1.set_ylabel(\"Avg. Episodic Reward\", color='blue')\n",
        "    ax1.tick_params(axis='y', labelcolor='blue')\n",
        "\n",
        "    ax2 = ax1.twinx()\n",
        "    ax2.plot(ep_len_list, label='Episode Length', color='green')\n",
        "    ax2.set_ylabel(\"Episode Length\", color='green')\n",
        "    ax2.tick_params(axis='y', labelcolor='green')\n",
        "\n",
        "    fig.tight_layout()\n",
        "    plt.show()\n",
        "\n",
        "    env.close()"
      ]
    },
    {
      "cell_type": "markdown",
      "metadata": {
        "id": "PJ2kaWXmJxlx"
      },
      "source": [
        "If training proceeds correctly, the average episodic reward will increase with time.\n",
        "\n",
        "Feel free to try different learning rates, `tau` values, and architectures for the\n",
        "Actor and Critic networks.\n",
        "\n",
        "The Inverted Pendulum problem has low complexity, but DDPG work great on many other\n",
        "problems.\n",
        "\n",
        "Another great environment to try this on is `LunarLandingContinuous-v2`, but it will take\n",
        "more episodes to obtain good results."
      ]
    },
    {
      "cell_type": "code",
      "execution_count": null,
      "metadata": {
        "id": "bPcsNHBJJxlx"
      },
      "outputs": [],
      "source": [
        "# Save the weights\n",
        "actor_model.save_weights(\"pendulum_actor.h5\")\n",
        "critic_model.save_weights(\"pendulum_critic.h5\")\n",
        "\n",
        "target_actor.save_weights(\"pendulum_target_actor.h5\")\n",
        "target_critic.save_weights(\"pendulum_target_critic.h5\")"
      ]
    }
  ],
  "metadata": {
    "accelerator": "GPU",
    "colab": {
      "provenance": [],
      "toc_visible": true
    },
    "kernelspec": {
      "display_name": "Python 3",
      "language": "python",
      "name": "python3"
    },
    "language_info": {
      "codemirror_mode": {
        "name": "ipython",
        "version": 3
      },
      "file_extension": ".py",
      "mimetype": "text/x-python",
      "name": "python",
      "nbconvert_exporter": "python",
      "pygments_lexer": "ipython3",
      "version": "3.11.7"
    }
  },
  "nbformat": 4,
  "nbformat_minor": 0
}
