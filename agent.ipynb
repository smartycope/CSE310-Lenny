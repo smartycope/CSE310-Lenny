{
  "cells": [
    {
      "cell_type": "markdown",
      "metadata": {
        "id": "-prIxCiGJxlm"
      },
      "source": [
        "# Deep Deterministic Policy Gradient (DDPG)"
      ]
    },
    {
      "cell_type": "markdown",
      "metadata": {
        "id": "mtbqSHEVJxlq"
      },
      "source": [
        "## Introduction\n",
        "\n",
        "**Deep Deterministic Policy Gradient (DDPG)** is a model-free off-policy algorithm for\n",
        "learning continous actions.\n",
        "\n",
        "It combines ideas from DPG (Deterministic Policy Gradient) and DQN (Deep Q-Network).\n",
        "It uses Experience Replay and slow-learning target networks from DQN, and it is based on\n",
        "DPG,\n",
        "which can operate over continuous action spaces.\n",
        "\n",
        "This tutorial closely follow this paper -\n",
        "[Continuous control with deep reinforcement learning](https://arxiv.org/pdf/1509.02971.pdf)\n",
        "\n",
        "## Problem\n",
        "\n",
        "We are trying to solve the classic **Inverted Pendulum** control problem.\n",
        "In this setting, we can take only two actions: swing left or swing right.\n",
        "\n",
        "What make this problem challenging for Q-Learning Algorithms is that actions\n",
        "are **continuous** instead of being **discrete**. That is, instead of using two\n",
        "discrete actions like `-1` or `+1`, we have to select from infinite actions\n",
        "ranging from `-2` to `+2`.\n",
        "\n",
        "## Quick theory\n",
        "\n",
        "Just like the Actor-Critic method, we have two networks:\n",
        "\n",
        "1. Actor - It proposes an action given a state.\n",
        "2. Critic - It predicts if the action is good (positive value) or bad (negative value)\n",
        "given a state and an action.\n",
        "\n",
        "DDPG uses two more techniques not present in the original DQN:\n",
        "\n",
        "**First, it uses two Target networks.**\n",
        "\n",
        "**Why?** Because it add stability to training. In short, we are learning from estimated\n",
        "targets and Target networks are updated slowly, hence keeping our estimated targets\n",
        "stable.\n",
        "\n",
        "Conceptually, this is like saying, \"I have an idea of how to play this well,\n",
        "I'm going to try it out for a bit until I find something better\",\n",
        "as opposed to saying \"I'm going to re-learn how to play this entire game after every\n",
        "move\".\n",
        "See this [StackOverflow answer](https://stackoverflow.com/a/54238556/13475679).\n",
        "\n",
        "**Second, it uses Experience Replay.**\n",
        "\n",
        "We store list of tuples `(state, action, reward, next_state)`, and instead of\n",
        "learning only from recent experience, we learn from sampling all of our experience\n",
        "accumulated so far.\n",
        "\n",
        "Now, let's see how is it implemented."
      ]
    },
    {
      "cell_type": "code",
      "execution_count": null,
      "metadata": {},
      "outputs": [],
      "source": [
        "# So it'll reload the enviorment as I make changes to it\n",
        "%load_ext autoreload\n",
        "%autoreload 2"
      ]
    },
    {
      "cell_type": "code",
      "execution_count": 262,
      "metadata": {
        "id": "fiSlHr6hJxlr"
      },
      "outputs": [],
      "source": [
        "# Imports\n",
        "import gymnasium as gym\n",
        "import tensorflow as tf\n",
        "from tensorflow.keras import layers\n",
        "import numpy as np\n",
        "import time\n",
        "import matplotlib.pyplot as plt\n",
        "from cartpole import CartPoleEnv\n",
        "import random\n",
        "from Cope.plotly import ridgeplot\n",
        "import polars as pl"
      ]
    },
    {
      "cell_type": "markdown",
      "metadata": {
        "id": "rXkhVHnkJxls"
      },
      "source": [
        "We use [OpenAIGym](http://gym.openai.com/docs) to create the environment.\n",
        "We will use the `upper_bound` parameter to scale our actions later."
      ]
    },
    {
      "cell_type": "code",
      "execution_count": 263,
      "metadata": {
        "id": "RmLtxQ4_Jxlt"
      },
      "outputs": [
        {
          "name": "stdout",
          "output_type": "stream",
          "text": [
            "Size of State Space: 2\n",
            "Size of Action Space: 1\n",
            "Max Value of Action: 1.0\n",
            "Min Value of Action: -1.0\n"
          ]
        }
      ],
      "source": [
        "# Enviorment setup\n",
        "# Initial: force=3, fps=None, start_angle_range=.05, bounds_size=2.4\n",
        "# Stable:  force=3, fps=20,   start_angle_range=.05, bounds_size=2.4\n",
        "env = CartPoleEnv(force=3, fps=20, start_angle_range=.05, bounds_size=2.4)\n",
        "\n",
        "num_states = env.observation_space.shape[0]\n",
        "num_actions = env.action_space.shape[0]\n",
        "upper_bound = env.action_space.high[0]\n",
        "lower_bound = env.action_space.low[0]\n",
        "\n",
        "print(f\"Size of State Space: {num_states}\")\n",
        "print(f\"Size of Action Space: {num_actions}\")\n",
        "print(f\"Max Value of Action: {upper_bound}\")\n",
        "print(f\"Min Value of Action: {lower_bound}\")"
      ]
    },
    {
      "cell_type": "markdown",
      "metadata": {
        "id": "vdsVit7fJxlu"
      },
      "source": [
        "The `Buffer` class implements Experience Replay.\n",
        "\n",
        "---\n",
        "![Algorithm](https://i.imgur.com/mS6iGyJ.jpg)\n",
        "---\n",
        "\n",
        "\n",
        "**Critic loss** - Mean Squared Error of `y - Q(s, a)`\n",
        "where `y` is the expected return as seen by the Target network,\n",
        "and `Q(s, a)` is action value predicted by the Critic network. `y` is a moving target\n",
        "that the critic model tries to achieve; we make this target\n",
        "stable by updating the Target model slowly.\n",
        "\n",
        "**Actor loss** - This is computed using the mean of the value given by the Critic network\n",
        "for the actions taken by the Actor network. We seek to maximize this quantity.\n",
        "\n",
        "Hence we update the Actor network so that it produces actions that get\n",
        "the maximum predicted value as seen by the Critic, for a given state."
      ]
    },
    {
      "cell_type": "code",
      "execution_count": 264,
      "metadata": {
        "id": "-P0XRgsCJxlv"
      },
      "outputs": [],
      "source": [
        "class Buffer:\n",
        "    \"\"\" Don't touch this \"\"\"\n",
        "    def __init__(self, buffer_capacity=100_000, batch_size=64):\n",
        "        # Number of \"experiences\" to store at max\n",
        "        self.buffer_capacity = buffer_capacity\n",
        "        # Num of tuples to train on.\n",
        "        self.batch_size = batch_size\n",
        "\n",
        "        # Its tells us num of times record() was called.\n",
        "        self.buffer_counter = 0\n",
        "\n",
        "        # Instead of list of tuples as the exp.replay concept go\n",
        "        # We use different np.arrays for each tuple element\n",
        "        self.state_buffer = np.zeros((self.buffer_capacity, num_states))\n",
        "        self.action_buffer = np.zeros((self.buffer_capacity, num_actions))\n",
        "        self.reward_buffer = np.zeros((self.buffer_capacity, 1))\n",
        "        self.next_state_buffer = np.zeros((self.buffer_capacity, num_states))\n",
        "\n",
        "    # Takes (s,a,r,s') obervation tuple as input\n",
        "    def record(self, obs_tuple):\n",
        "        # Set index to zero if buffer_capacity is exceeded,\n",
        "        # replacing old records\n",
        "        index = self.buffer_counter % self.buffer_capacity\n",
        "\n",
        "        self.state_buffer[index] = obs_tuple[0]\n",
        "        self.action_buffer[index] = obs_tuple[1]\n",
        "        self.reward_buffer[index] = obs_tuple[2]\n",
        "        self.next_state_buffer[index] = obs_tuple[3]\n",
        "\n",
        "        self.buffer_counter += 1\n",
        "\n",
        "    # Eager execution is turned on by default in TensorFlow 2. Decorating with tf.function allows\n",
        "    # TensorFlow to build a static graph out of the logic and computations in our function.\n",
        "    # This provides a large speed up for blocks of code that contain many small TensorFlow\n",
        "    # operations such as this one.\n",
        "    @tf.function\n",
        "    def update(\n",
        "        self, state_batch, action_batch, reward_batch, next_state_batch,\n",
        "    ):\n",
        "        # Training and updating Actor & Critic networks.\n",
        "        # See Pseudo Code.\n",
        "        with tf.GradientTape() as tape:\n",
        "            target_actions = target_actor(next_state_batch, training=True)\n",
        "            y = reward_batch + gamma * target_critic(\n",
        "                [next_state_batch, target_actions], training=True\n",
        "            )\n",
        "            critic_value = critic_model([state_batch, action_batch], training=True)\n",
        "            critic_loss = tf.math.reduce_mean(tf.math.square(y - critic_value))\n",
        "\n",
        "        critic_grad = tape.gradient(critic_loss, critic_model.trainable_variables)\n",
        "        critic_optimizer.apply_gradients(\n",
        "            zip(critic_grad, critic_model.trainable_variables)\n",
        "        )\n",
        "\n",
        "        with tf.GradientTape() as tape:\n",
        "            actions = actor_model(state_batch, training=True)\n",
        "            critic_value = critic_model([state_batch, actions], training=True)\n",
        "            # Used `-value` as we want to maximize the value given\n",
        "            # by the critic for our actions\n",
        "            actor_loss = -tf.math.reduce_mean(critic_value)\n",
        "\n",
        "        actor_grad = tape.gradient(actor_loss, actor_model.trainable_variables)\n",
        "        actor_optimizer.apply_gradients(\n",
        "            zip(actor_grad, actor_model.trainable_variables)\n",
        "        )\n",
        "        return actor_loss, critic_loss\n",
        "\n",
        "    # We compute the loss and update parameters\n",
        "    def learn(self):\n",
        "        # Get sampling range\n",
        "        record_range = min(self.buffer_counter, self.buffer_capacity)\n",
        "        # Randomly sample indices\n",
        "        batch_indices = np.random.choice(record_range, self.batch_size)\n",
        "\n",
        "        # Convert to tensors\n",
        "        state_batch = tf.convert_to_tensor(self.state_buffer[batch_indices])\n",
        "        action_batch = tf.convert_to_tensor(self.action_buffer[batch_indices])\n",
        "        reward_batch = tf.convert_to_tensor(self.reward_buffer[batch_indices])\n",
        "        reward_batch = tf.cast(reward_batch, dtype=tf.float32)\n",
        "        next_state_batch = tf.convert_to_tensor(self.next_state_buffer[batch_indices])\n",
        "\n",
        "        return self.update(state_batch, action_batch, reward_batch, next_state_batch)\n",
        "\n",
        "\n",
        "# This update target parameters slowly\n",
        "# Based on rate `tau`, which is much less than one.\n",
        "@tf.function\n",
        "def update_target(target_weights, weights, tau):\n",
        "    for (a, b) in zip(target_weights, weights):\n",
        "        a.assign(b * tau + a * (1 - tau))\n"
      ]
    },
    {
      "cell_type": "markdown",
      "metadata": {
        "id": "alNdizGxJxlv"
      },
      "source": [
        "Here we define the Actor and Critic networks. These are basic Dense models\n",
        "with `ReLU` activation.\n",
        "\n",
        "Note: We need the initialization for last layer of the Actor to be between\n",
        "`-0.003` and `0.003` as this prevents us from getting `1` or `-1` output values in\n",
        "the initial stages, which would squash our gradients to zero,\n",
        "as we use the `tanh` activation."
      ]
    },
    {
      "cell_type": "code",
      "execution_count": 265,
      "metadata": {
        "id": "JcmJv9B7Jxlw"
      },
      "outputs": [],
      "source": [
        "# Actor & Critic\n",
        "def get_actor():\n",
        "    # Initialize weights between -3e-3 and 3-e3\n",
        "    last_init = tf.random_uniform_initializer(minval=-0.003, maxval=0.003)\n",
        "\n",
        "    inputs = layers.Input(shape=(num_states,))\n",
        "    out = layers.Dense(256, activation=\"relu\")(inputs)\n",
        "    out = layers.Dense(256, activation=\"relu\")(out)\n",
        "    outputs = layers.Dense(1, activation=\"tanh\", kernel_initializer=last_init)(out)\n",
        "\n",
        "    # Our upper bound is 2.0 for Pendulum.\n",
        "    outputs = outputs * upper_bound\n",
        "    model = tf.keras.Model(inputs, outputs)\n",
        "    return model\n",
        "\n",
        "\n",
        "def get_critic():\n",
        "    # State as input\n",
        "    state_input = layers.Input(shape=(num_states))\n",
        "    state_out = layers.Dense(16, activation=\"relu\")(state_input)\n",
        "    state_out = layers.Dense(32, activation=\"relu\")(state_out)\n",
        "\n",
        "    # Action as input\n",
        "    action_input = layers.Input(shape=(num_actions))\n",
        "    action_out = layers.Dense(32, activation=\"relu\")(action_input)\n",
        "\n",
        "    # Both are passed through seperate layer before concatenating\n",
        "    concat = layers.Concatenate()([state_out, action_out])\n",
        "\n",
        "    out = layers.Dense(256, activation=\"relu\")(concat)\n",
        "    out = layers.Dense(256, activation=\"relu\")(out)\n",
        "    outputs = layers.Dense(1)(out)\n",
        "\n",
        "    # Outputs single value for give state-action\n",
        "    model = tf.keras.Model([state_input, action_input], outputs)\n",
        "\n",
        "    return model\n"
      ]
    },
    {
      "cell_type": "markdown",
      "metadata": {
        "id": "V9OZchV4Jxlw"
      },
      "source": [
        "`policy()` returns an action sampled from our Actor network plus some noise for\n",
        "exploration."
      ]
    },
    {
      "cell_type": "code",
      "execution_count": 266,
      "metadata": {
        "id": "P7PeV6E2Jxlw"
      },
      "outputs": [],
      "source": [
        "def policy(state, noise_func):\n",
        "    sampled_actions = tf.squeeze(actor_model(state))\n",
        "\n",
        "    # Adding noise to action\n",
        "    sampled_actions = sampled_actions.numpy() + noise_func()\n",
        "\n",
        "    # We make sure action is within bounds\n",
        "    legal_action = np.clip(sampled_actions, lower_bound, upper_bound)\n",
        "\n",
        "    return [np.squeeze(legal_action)]\n"
      ]
    },
    {
      "cell_type": "markdown",
      "metadata": {
        "id": "84aR4JjSJxlw"
      },
      "source": [
        "## Training hyperparameters"
      ]
    },
    {
      "cell_type": "code",
      "execution_count": 267,
      "metadata": {
        "id": "A25VQyAEJxlx",
        "notebookRunGroups": {
          "groupValue": "1"
        }
      },
      "outputs": [],
      "source": [
        "# Config\n",
        "# Running this cell resets the weights\n",
        "# Initial: .2 | stable: .2\n",
        "noise = lambda mu=0, std_dev=0.2: random.gauss(mu, std_dev)\n",
        "\n",
        "actor_model = get_actor()\n",
        "critic_model = get_critic()\n",
        "\n",
        "target_actor = get_actor()\n",
        "target_critic = get_critic()\n",
        "\n",
        "# Making the weights equal initially\n",
        "target_actor.set_weights(actor_model.get_weights())\n",
        "target_critic.set_weights(critic_model.get_weights())\n",
        "\n",
        "# If we're resetting weights, reset the episode count\n",
        "env.reset_count = 0\n",
        "\n",
        "# Learning rate for actor-critic models\n",
        "# Initial: .002 | stable: .003\n",
        "critic_lr = 0.003\n",
        "# Initial: .001 | stable: .002\n",
        "actor_lr = 0.002\n",
        "\n",
        "critic_optimizer = tf.keras.optimizers.Adam(critic_lr)\n",
        "actor_optimizer = tf.keras.optimizers.Adam(actor_lr)\n",
        "\n",
        "# This doesn't matter, it's just how long we're training it for\n",
        "total_episodes = 250\n",
        "\n",
        "# Discount factor for future rewards\n",
        "# Initial: .99 | stable: .99\n",
        "gamma = 0.99\n",
        "\n",
        "# Used to update target networks\n",
        "# Initial: .005 | stable: .005\n",
        "tau = 0.005\n",
        "\n",
        "# Initial: 40 | stable: 40\n",
        "avg_reward_episodes = 40\n",
        "\n",
        "# Initial: 5000, 64 | stable: 5000, 32\n",
        "buffer = Buffer(5000, 64)\n"
      ]
    },
    {
      "cell_type": "code",
      "execution_count": 268,
      "metadata": {
        "notebookRunGroups": {
          "groupValue": "1"
        }
      },
      "outputs": [],
      "source": [
        "# Show our configuration in the window\n",
        "env.show_strings = [\n",
        "    'Config:',\n",
        "    f'force: {env.force_mag}',\n",
        "    f'gamma: {gamma}',\n",
        "    f'tau: {tau}',\n",
        "    f'buffer cap: {buffer.buffer_capacity}',\n",
        "    f'buffer train size: {buffer.batch_size}',\n",
        "    f'avg of prev: {avg_reward_episodes}',\n",
        "    f'start angle range: {env.start_angle_range}',\n",
        "    f'bounds: {env.x_threshold}',\n",
        "    '-------------------------'\n",
        "]"
      ]
    },
    {
      "cell_type": "code",
      "execution_count": 269,
      "metadata": {
        "notebookRunGroups": {
          "groupValue": "1"
        }
      },
      "outputs": [],
      "source": [
        "# Load the weights, if we have them and we want to\n",
        "if True:\n",
        "    actor_model.load_weights(\"pendulum_actor.h5\")\n",
        "    critic_model.load_weights(\"pendulum_critic.h5\")\n",
        "\n",
        "    target_actor.load_weights(\"pendulum_target_actor.h5\")\n",
        "    target_critic.load_weights(\"pendulum_target_critic.h5\")"
      ]
    },
    {
      "cell_type": "markdown",
      "metadata": {
        "id": "ILFm3xXLJxlx"
      },
      "source": [
        "Now we implement our main training loop, and iterate over episodes.\n",
        "We sample actions using `policy()` and train with `learn()` at each time step,\n",
        "along with updating the Target networks at a rate `tau`."
      ]
    },
    {
      "cell_type": "code",
      "execution_count": 271,
      "metadata": {
        "id": "8Stxw_dQJxlx",
        "notebookRunGroups": {
          "groupValue": "1"
        }
      },
      "outputs": [
        {
          "data": {
            "image/png": "[encoded data removed]",
            "text/plain": [
              "<Figure size 640x480 with 2 Axes>"
            ]
          },
          "metadata": {},
          "output_type": "display_data"
        },
        {
          "data": {
            "image/png": "[encoded data removed]",
            "text/plain": [
              "<Figure size 640x480 with 1 Axes>"
            ]
          },
          "metadata": {},
          "output_type": "display_data"
        },
        {
          "ename": "SystemExit",
          "evalue": "0",
          "output_type": "error",
          "traceback": [
            "An exception has occurred, use %tb to see the full traceback.\n",
            "\u001b[0;31mSystemExit\u001b[0m\u001b[0;31m:\u001b[0m 0\n"
          ]
        }
      ],
      "source": [
        "# Running the actual loop\n",
        "\n",
        "# To store reward history of each episode\n",
        "ep_reward_list = []\n",
        "# To store average reward history of last few episodes\n",
        "avg_reward_list = []\n",
        "\n",
        "# These aren't used in the algorithm, they're just so I can make graphs to see what is going on\n",
        "# To store the length of of each episode\n",
        "ep_len_list = []\n",
        "ep_critic_loss = []\n",
        "ep_actor_loss = []\n",
        "\n",
        "try:\n",
        "    for ep in range(total_episodes):\n",
        "        prev_state, info = env.reset()\n",
        "        episodic_reward = 0\n",
        "        step_count = 0\n",
        "        sum_actor_loss = 0\n",
        "        sum_critic_loss = 0\n",
        "\n",
        "        while True:\n",
        "            step_count += 1\n",
        "            env.render()\n",
        "\n",
        "            # Decide what action to take\n",
        "            action = policy(tf.expand_dims(tf.convert_to_tensor(prev_state), 0), noise)\n",
        "\n",
        "            # Recieve state and reward from environment.\n",
        "            state, reward, done, _, info = env.step(action)\n",
        "\n",
        "            buffer.record((prev_state, action, reward, state))\n",
        "            actor_loss, critic_loss = buffer.learn()\n",
        "\n",
        "            episodic_reward += reward\n",
        "            sum_actor_loss += actor_loss\n",
        "            sum_critic_loss += critic_loss\n",
        "\n",
        "            update_target(target_actor.variables, actor_model.variables, tau)\n",
        "            update_target(target_critic.variables, critic_model.variables, tau)\n",
        "\n",
        "            theta, theta_vel = state\n",
        "            x, x_vel = info\n",
        "            # With SimpleGym you can print from wherever, but you have to add an arbitrary key\n",
        "            env.print['reward'] = f'Reward: {reward:.0f}'\n",
        "            env.print['a'] = f'Theta: {theta:.2f}'\n",
        "            # env.print['b'] = f'Angular Velocity: {theta_vel:.2f}'\n",
        "            # env.print['c'] = f'x: {x:.2f}'\n",
        "            # env.print['d'] = f'velocity: {x_vel:.2f}'\n",
        "\n",
        "            # End this episode when `done` is True\n",
        "            if done: break\n",
        "\n",
        "            prev_state = state\n",
        "\n",
        "        ep_reward_list.append(episodic_reward)\n",
        "        ep_len_list.append(step_count)\n",
        "        ep_actor_loss.append(sum_actor_loss / step_count)\n",
        "        ep_critic_loss.append(sum_critic_loss / step_count)\n",
        "\n",
        "        # Mean of last 40 episodes\n",
        "        avg_reward = np.mean(ep_reward_list[-avg_reward_episodes:])\n",
        "        avg_reward_list.append(avg_reward)\n",
        "\n",
        "        env.print['e'] = f'Episode {env.reset_count}/{total_episodes}'\n",
        "        env.print['f'] = f'Last Episode Len: {step_count}'\n",
        "        env.print['g'] = f'Avg Reward of the last episode: {episodic_reward/step_count:.1f}'\n",
        "        env.print['h'] = f'Avg Reward of the last {avg_reward_episodes} episodes: {avg_reward:.1f}'\n",
        "        # print(f\"Episode {ep}: Avg Reward = {avg_reward:.2f}, Length = {step_count}\", end='\\r')\n",
        "\n",
        "# Make sure the window closes and we show graphs if we finish or if there's an error\n",
        "finally:\n",
        "    # Episodes versus Avg. Rewards and episode lengths\n",
        "    # plt.plot(avg_reward_list, label='Avg. Reward')\n",
        "    # plt.plot(np.array(ep_len_list)*5, label='Episode Length', ylim=)\n",
        "    # plt.xlabel(\"Episode\")\n",
        "    # plt.ylabel(\"Avg. Episodic Reward\")\n",
        "    # plt.legend()\n",
        "    # plt.show()\n",
        "\n",
        "    fig, ax1 = plt.subplots()\n",
        "\n",
        "    ax1.plot(avg_reward_list, label='Avg. Reward', color='blue')\n",
        "    ax1.set_xlabel(\"Episode\")\n",
        "    ax1.set_ylabel(\"Avg. Episodic Reward\", color='blue')\n",
        "    ax1.tick_params(axis='y', labelcolor='blue')\n",
        "    ax1.axhline(y=0, linestyle='-')\n",
        "\n",
        "    ax2 = ax1.twinx()\n",
        "    ax2.plot(ep_len_list, label='Episode Length', color='green')\n",
        "    ax2.set_ylabel(\"Episode Length\", color='green')\n",
        "    ax2.tick_params(axis='y', labelcolor='green')\n",
        "\n",
        "    fig.tight_layout()\n",
        "    plt.show()\n",
        "\n",
        "    fig, ax1 = plt.subplots()\n",
        "\n",
        "    # Losses\n",
        "    plt.plot(ep_critic_loss, label='Avg Critic Loss', color='red')\n",
        "    plt.plot(ep_actor_loss, label='Avg Actor Loss', color='orange')\n",
        "    plt.xlabel(\"Episode\")\n",
        "    plt.legend()\n",
        "    plt.show()\n",
        "\n",
        "    env.close()"
      ]
    },
    {
      "cell_type": "code",
      "execution_count": 276,
      "metadata": {
        "notebookRunGroups": {
          "groupValue": "1"
        }
      },
      "outputs": [
        {
          "data": {
            "application/vnd.plotly.v1+json": {
              "config": {
                "plotlyServerURL": "https://plot.ly"
              },
              "data": [
                {
                  "line": {
                    "color": "white"
                  },
                  "type": "scatter",
                  "x": [
                    0,
                    121
                  ],
                  "y": [
                    4,
                    4
                  ]
                },
                {
                  "fill": "tonextx",
                  "name": "Avg. Reward",
                  "type": "scatter",
                  "x": [
                    0,
                    1,
                    2,
                    3,
                    4,
                    5,
                    6,
                    7,
                    8,
                    9,
                    10,
                    11,
                    12,
                    13,
                    14,
                    15,
                    16,
                    17,
                    18,
                    19,
                    20,
                    21,
                    22,
                    23,
                    24,
                    25,
                    26,
                    27,
                    28,
                    29,
                    30,
                    31,
                    32,
                    33,
                    34,
                    35,
                    36,
                    37,
                    38,
                    39,
                    40,
                    41,
                    42,
                    43,
                    44,
                    45,
                    46,
                    47,
                    48,
                    49,
                    50,
                    51,
                    52,
                    53,
                    54,
                    55,
                    56,
                    57,
                    58,
                    59,
                    60,
                    61,
                    62,
                    63,
                    64,
                    65,
                    66,
                    67,
                    68,
                    69,
                    70,
                    71,
                    72,
                    73,
                    74,
                    75,
                    76,
                    77,
                    78,
                    79,
                    80,
                    81,
                    82,
                    83,
                    84,
                    85,
                    86,
                    87,
                    88,
                    89,
                    90,
                    91,
                    92,
                    93,
                    94,
                    95,
                    96,
                    97,
                    98,
                    99,
                    100,
                    101,
                    102,
                    103,
                    104,
                    105,
                    106,
                    107,
                    108,
                    109,
                    110,
                    111,
                    112,
                    113,
                    114,
                    115,
                    116,
                    117,
                    118,
                    119,
                    120,
                    121
                  ],
                  "y": [
                    4.5025394329522195,
                    4.5,
                    4.504223168961483,
                    4.5098866648674925,
                    4.509885897362165,
                    4.516258912202618,
                    4.516814737271574,
                    4.517385119893257,
                    4.51499822897622,
                    4.512866189026911,
                    4.512325970004351,
                    4.511574621059448,
                    4.510600539875924,
                    4.51001853328212,
                    4.510601501125757,
                    4.511023111937301,
                    4.511514120085936,
                    4.512905254560828,
                    4.54023423922864,
                    4.53940737046021,
                    4.538577612274557,
                    4.538804524771347,
                    4.539034385597607,
                    4.53881649767841,
                    4.538979514368363,
                    4.5390984822897185,
                    4.538439031558966,
                    4.538235709174914,
                    4.537533097649794,
                    4.536885138609591,
                    4.53631728253066,
                    4.5356353285794615,
                    4.534859238002326,
                    4.534197170824593,
                    4.533598016389518,
                    4.5332116580702495,
                    4.532799652611189,
                    4.532656920114293,
                    4.532936207276711,
                    4.533121971753425,
                    4.534852714564457,
                    4.537533322854077,
                    4.5407931929088905,
                    4.575038480842757,
                    4.574874747724338,
                    4.574499788823826,
                    4.574773173151359,
                    4.574924790823718,
                    4.576719514573005,
                    4.57820443921939,
                    4.579217668891784,
                    4.580463287686404,
                    4.581508357976726,
                    4.5825481514224835,
                    4.58277998159354,
                    4.584210941346898,
                    4.586634975804447,
                    4.593353079281466,
                    4.587152986155862,
                    4.594748138310445,
                    4.601022953337668,
                    4.637567042216694,
                    4.641028449953909,
                    4.647858651710354,
                    4.653737225076982,
                    4.660376307825139,
                    4.665948497646225,
                    4.672833632078383,
                    4.693595573021031,
                    4.7145591900857164,
                    4.7235366384195165,
                    4.731249748735063,
                    4.743739865400641,
                    4.755295072725541,
                    4.767764770919606,
                    4.786085696838684,
                    4.805914603144094,
                    4.8677748207982505,
                    4.871894656883516,
                    4.8763748656468895,
                    4.878123234709068,
                    4.878051088719841,
                    4.88215088451426,
                    4.866983355117072,
                    4.950615972632364,
                    4.974167620563181,
                    5.026771754748875,
                    5.040917302072146,
                    5.06197031275529,
                    5.084779380244086,
                    5.234776469435662,
                    5.243827113467637,
                    5.263462113783375,
                    5.293478536334235,
                    5.31141138907136,
                    5.337604045505762,
                    5.353510355690436,
                    5.362766967602653,
                    5.36309511077515,
                    5.364261933324681,
                    5.3685226629657725,
                    5.346099576772569,
                    5.353270405971452,
                    5.461323795134203,
                    5.460127296585111,
                    5.461991503437413,
                    5.463591453757007,
                    5.4638258646084585,
                    5.451303457890135,
                    5.4365626925325,
                    5.437670155249784,
                    5.436659809860354,
                    5.431615694508901,
                    5.431560225941969,
                    5.448233432466024,
                    5.5,
                    5.486454337761494,
                    5.434154093007561,
                    5.440704679228674,
                    5.447844634197069,
                    5.457809918846894,
                    5.464017558319639
                  ]
                },
                {
                  "line": {
                    "color": "white"
                  },
                  "type": "scatter",
                  "x": [
                    0,
                    121
                  ],
                  "y": [
                    3,
                    3
                  ]
                },
                {
                  "fill": "tonextx",
                  "name": "Episode Length",
                  "type": "scatter",
                  "x": [
                    0,
                    1,
                    2,
                    3,
                    4,
                    5,
                    6,
                    7,
                    8,
                    9,
                    10,
                    11,
                    12,
                    13,
                    14,
                    15,
                    16,
                    17,
                    18,
                    19,
                    20,
                    21,
                    22,
                    23,
                    24,
                    25,
                    26,
                    27,
                    28,
                    29,
                    30,
                    31,
                    32,
                    33,
                    34,
                    35,
                    36,
                    37,
                    38,
                    39,
                    40,
                    41,
                    42,
                    43,
                    44,
                    45,
                    46,
                    47,
                    48,
                    49,
                    50,
                    51,
                    52,
                    53,
                    54,
                    55,
                    56,
                    57,
                    58,
                    59,
                    60,
                    61,
                    62,
                    63,
                    64,
                    65,
                    66,
                    67,
                    68,
                    69,
                    70,
                    71,
                    72,
                    73,
                    74,
                    75,
                    76,
                    77,
                    78,
                    79,
                    80,
                    81,
                    82,
                    83,
                    84,
                    85,
                    86,
                    87,
                    88,
                    89,
                    90,
                    91,
                    92,
                    93,
                    94,
                    95,
                    96,
                    97,
                    98,
                    99,
                    100,
                    101,
                    102,
                    103,
                    104,
                    105,
                    106,
                    107,
                    108,
                    109,
                    110,
                    111,
                    112,
                    113,
                    114,
                    115,
                    116,
                    117,
                    118,
                    119,
                    120,
                    121
                  ],
                  "y": [
                    3.5155555555555558,
                    3.531851851851852,
                    3.546666666666667,
                    3.5614814814814815,
                    3.545185185185185,
                    3.5874074074074076,
                    3.5562962962962965,
                    3.5607407407407408,
                    3.522222222222222,
                    3.528888888888889,
                    3.5407407407407407,
                    3.5103703703703704,
                    3.5,
                    3.5414814814814815,
                    3.557037037037037,
                    3.5548148148148146,
                    3.554074074074074,
                    3.5696296296296297,
                    3.7955555555555556,
                    3.5585185185185186,
                    3.557037037037037,
                    3.5755555555555554,
                    3.5755555555555554,
                    3.5659259259259257,
                    3.5733333333333333,
                    3.5770370370370372,
                    3.557037037037037,
                    3.566666666666667,
                    3.5525925925925925,
                    3.554074074074074,
                    3.5562962962962965,
                    3.5503703703703704,
                    3.542962962962963,
                    3.546666666666667,
                    3.546666666666667,
                    3.5555555555555554,
                    3.5525925925925925,
                    3.5607407407407408,
                    3.576296296296296,
                    3.5733333333333333,
                    3.5992592592592594,
                    3.622962962962963,
                    3.6422222222222222,
                    3.98,
                    3.531851851851852,
                    3.5681481481481483,
                    3.5659259259259257,
                    3.56,
                    3.597777777777778,
                    3.5859259259259257,
                    3.580740740740741,
                    3.586666666666667,
                    3.5755555555555554,
                    3.5792592592592594,
                    3.5637037037037036,
                    3.600740740740741,
                    3.628888888888889,
                    3.7155555555555555,
                    3.708148148148148,
                    3.7244444444444444,
                    3.7014814814814816,
                    3.993333333333333,
                    3.6637037037037037,
                    3.717037037037037,
                    3.705925925925926,
                    3.717037037037037,
                    3.691851851851852,
                    3.714814814814815,
                    3.868888888888889,
                    3.871111111111111,
                    3.7414814814814816,
                    3.722962962962963,
                    3.783703703703704,
                    3.7733333333333334,
                    3.783703703703704,
                    3.8451851851851853,
                    3.8585185185185185,
                    4.144444444444444,
                    3.6792592592592595,
                    3.6822222222222223,
                    3.642962962962963,
                    3.6192592592592594,
                    3.716296296296296,
                    3.8525925925925923,
                    4.239259259259259,
                    3.8918518518518517,
                    4.0851851851851855,
                    3.805925925925926,
                    3.88,
                    3.8925925925925924,
                    4.5,
                    3.754074074074074,
                    3.8651851851851853,
                    3.9503703703703703,
                    3.839259259259259,
                    3.922222222222222,
                    3.84,
                    3.825925925925926,
                    3.7133333333333334,
                    3.74,
                    3.762962962962963,
                    3.811111111111111,
                    3.7696296296296294,
                    4.377037037037037,
                    3.685925925925926,
                    3.7437037037037038,
                    3.717037037037037,
                    3.720740740740741,
                    3.731851851851852,
                    3.7,
                    3.7562962962962962,
                    3.7074074074074073,
                    3.717037037037037,
                    3.7725925925925927,
                    3.9333333333333336,
                    4.183703703703704,
                    3.7022222222222223,
                    3.7525925925925927,
                    3.771851851851852,
                    3.7822222222222224,
                    3.7925925925925927,
                    3.7325925925925927
                  ]
                },
                {
                  "line": {
                    "color": "white"
                  },
                  "type": "scatter",
                  "x": [
                    0,
                    121
                  ],
                  "y": [
                    2,
                    2
                  ]
                },
                {
                  "fill": "tonextx",
                  "name": "Avg Actor Loss",
                  "type": "scatter",
                  "x": [
                    0,
                    1,
                    2,
                    3,
                    4,
                    5,
                    6,
                    7,
                    8,
                    9,
                    10,
                    11,
                    12,
                    13,
                    14,
                    15,
                    16,
                    17,
                    18,
                    19,
                    20,
                    21,
                    22,
                    23,
                    24,
                    25,
                    26,
                    27,
                    28,
                    29,
                    30,
                    31,
                    32,
                    33,
                    34,
                    35,
                    36,
                    37,
                    38,
                    39,
                    40,
                    41,
                    42,
                    43,
                    44,
                    45,
                    46,
                    47,
                    48,
                    49,
                    50,
                    51,
                    52,
                    53,
                    54,
                    55,
                    56,
                    57,
                    58,
                    59,
                    60,
                    61,
                    62,
                    63,
                    64,
                    65,
                    66,
                    67,
                    68,
                    69,
                    70,
                    71,
                    72,
                    73,
                    74,
                    75,
                    76,
                    77,
                    78,
                    79,
                    80,
                    81,
                    82,
                    83,
                    84,
                    85,
                    86,
                    87,
                    88,
                    89,
                    90,
                    91,
                    92,
                    93,
                    94,
                    95,
                    96,
                    97,
                    98,
                    99,
                    100,
                    101,
                    102,
                    103,
                    104,
                    105,
                    106,
                    107,
                    108,
                    109,
                    110,
                    111,
                    112,
                    113,
                    114,
                    115,
                    116,
                    117,
                    118,
                    119,
                    120,
                    121
                  ],
                  "y": [
                    3.4940659265956797,
                    3.4943246836822417,
                    3.4944931373248203,
                    3.4950247241385934,
                    3.4953140960698645,
                    3.496055587515829,
                    3.4968477161079665,
                    3.497247946405257,
                    3.497300431208067,
                    3.497984032165295,
                    3.498207626488073,
                    3.498672806561107,
                    3.498829309271537,
                    3.498953175553166,
                    3.4992834054691686,
                    3.4996748557846966,
                    3.4997732388556786,
                    3.5,
                    3.4992648752278557,
                    3.4959533130115945,
                    3.4943244947877363,
                    3.492448853894098,
                    3.4904396395540647,
                    3.487915371572477,
                    3.4855622231749086,
                    3.4837154710121188,
                    3.4822671856151306,
                    3.480959091165487,
                    3.479449864839943,
                    3.478627959557951,
                    3.4774753696712692,
                    3.4762605034338114,
                    3.4751878179873197,
                    3.474215185728257,
                    3.4736375463308544,
                    3.4726150758564773,
                    3.471387485561273,
                    3.470560858432752,
                    3.4689683631771806,
                    3.467658072183781,
                    3.4659900201582747,
                    3.463968863401829,
                    3.4608909378834425,
                    3.4536245357934305,
                    3.4450060474782336,
                    3.44242064528669,
                    3.439305372331183,
                    3.436404745466393,
                    3.4326658398819543,
                    3.4286826100930363,
                    3.4247623492680814,
                    3.4213024666733243,
                    3.418092094108155,
                    3.415134258013501,
                    3.412265018602914,
                    3.4087302016611005,
                    3.404374711380421,
                    3.397038403872479,
                    3.386767637771289,
                    3.3759701718565203,
                    3.365842404056943,
                    3.349885116477869,
                    3.3314593926622784,
                    3.318512451785929,
                    3.302677650423164,
                    3.28702243715669,
                    3.2757113763717314,
                    3.2679549509684933,
                    3.258218580841713,
                    3.245571030530892,
                    3.2341156419573105,
                    3.224734120997065,
                    3.2145868980956456,
                    3.204804532672914,
                    3.19756366746849,
                    3.1889283438014764,
                    3.179475575549765,
                    3.1658876898114565,
                    3.1542759667777425,
                    3.147521941549634,
                    3.1412657885627233,
                    3.136112531756637,
                    3.128849205653652,
                    3.1166664142740172,
                    3.0882555906531293,
                    3.0317084948655317,
                    2.9908398659805666,
                    2.956354525374515,
                    2.932668880257722,
                    2.9115407387494616,
                    2.87492504797634,
                    2.810696324880787,
                    2.7662696584485835,
                    2.7197613952114805,
                    2.6903861732739847,
                    2.669661502171498,
                    2.652335627451596,
                    2.6383378633452774,
                    2.6281009785186455,
                    2.6214647739157844,
                    2.618886196699484,
                    2.6194204357779105,
                    2.6201385239172077,
                    2.6172064517944325,
                    2.598602684069327,
                    2.5862619397236335,
                    2.5677609636401786,
                    2.5494524906696876,
                    2.5347501149632086,
                    2.5251314333387427,
                    2.51864267792879,
                    2.5138972185545234,
                    2.511325181423392,
                    2.5108912897123616,
                    2.5104988846022027,
                    2.5163494201856835,
                    2.519386001548235,
                    2.5178357371172426,
                    2.5156579548173283,
                    2.5106532702490783,
                    2.5042661834358486,
                    2.5
                  ]
                },
                {
                  "line": {
                    "color": "white"
                  },
                  "type": "scatter",
                  "x": [
                    0,
                    121
                  ],
                  "y": [
                    1,
                    1
                  ]
                },
                {
                  "fill": "tonextx",
                  "name": "Avg Critic Loss",
                  "type": "scatter",
                  "x": [
                    0,
                    1,
                    2,
                    3,
                    4,
                    5,
                    6,
                    7,
                    8,
                    9,
                    10,
                    11,
                    12,
                    13,
                    14,
                    15,
                    16,
                    17,
                    18,
                    19,
                    20,
                    21,
                    22,
                    23,
                    24,
                    25,
                    26,
                    27,
                    28,
                    29,
                    30,
                    31,
                    32,
                    33,
                    34,
                    35,
                    36,
                    37,
                    38,
                    39,
                    40,
                    41,
                    42,
                    43,
                    44,
                    45,
                    46,
                    47,
                    48,
                    49,
                    50,
                    51,
                    52,
                    53,
                    54,
                    55,
                    56,
                    57,
                    58,
                    59,
                    60,
                    61,
                    62,
                    63,
                    64,
                    65,
                    66,
                    67,
                    68,
                    69,
                    70,
                    71,
                    72,
                    73,
                    74,
                    75,
                    76,
                    77,
                    78,
                    79,
                    80,
                    81,
                    82,
                    83,
                    84,
                    85,
                    86,
                    87,
                    88,
                    89,
                    90,
                    91,
                    92,
                    93,
                    94,
                    95,
                    96,
                    97,
                    98,
                    99,
                    100,
                    101,
                    102,
                    103,
                    104,
                    105,
                    106,
                    107,
                    108,
                    109,
                    110,
                    111,
                    112,
                    113,
                    114,
                    115,
                    116,
                    117,
                    118,
                    119,
                    120,
                    121
                  ],
                  "y": [
                    1.5001455963948633,
                    1.5,
                    1.5000760516499079,
                    1.5000253071339649,
                    1.5010469373753166,
                    1.5014967194861635,
                    1.5021401029029868,
                    1.5026474469415951,
                    1.5026882074252519,
                    1.5024801667256342,
                    1.5031551531466194,
                    1.5027206232429633,
                    1.5025852460962068,
                    1.5033958833496466,
                    1.5030298507111455,
                    1.503304345925436,
                    1.5037718461626055,
                    1.5038706313116903,
                    1.5112406816023825,
                    1.5356914365306924,
                    1.5369094499997151,
                    1.539327679673405,
                    1.5422755889964355,
                    1.5429291680298696,
                    1.5460530187869392,
                    1.5432573886260206,
                    1.543514956544751,
                    1.541019387029835,
                    1.5441214308621998,
                    1.5428596936298324,
                    1.544047467577057,
                    1.544130760357003,
                    1.544149274260215,
                    1.5437736455856184,
                    1.5400543294908298,
                    1.5401164352606642,
                    1.5442212854738722,
                    1.5430466132676999,
                    1.5426896303930373,
                    1.5420684759704293,
                    1.5449016966971194,
                    1.5446291013451952,
                    1.543843981710906,
                    1.5680824972272809,
                    1.6261384573506898,
                    1.630358422626306,
                    1.631801205695854,
                    1.6272511908562088,
                    1.631493684091943,
                    1.6326578045603548,
                    1.6372763969023276,
                    1.6360252773560817,
                    1.6438905075101955,
                    1.6441546878512558,
                    1.6405832499646211,
                    1.6468981924276385,
                    1.6539547198135685,
                    1.652366032590139,
                    1.6620859416903915,
                    1.6702604784507207,
                    1.678294026408342,
                    1.6943594516317722,
                    1.7417354000361136,
                    1.716168803236203,
                    1.650955564217482,
                    1.6559853841593204,
                    1.6618422317205863,
                    1.667148436846828,
                    1.6760056358677933,
                    1.6911644030241646,
                    1.7172455025572702,
                    1.7133818430864773,
                    1.7147636986635741,
                    1.7138863568412592,
                    1.6671598678960682,
                    1.653855498306162,
                    1.6684458433493827,
                    1.7036697070997082,
                    1.8650125305677934,
                    1.8241875406208243,
                    1.8264241221289694,
                    1.8339565153016624,
                    1.8419361614655578,
                    1.8348431426532064,
                    1.8774364983314344,
                    2.066109799842141,
                    2.0756370693833484,
                    2.094222020962968,
                    1.9946632448450938,
                    2.031328001145286,
                    2.051291959332807,
                    2.3295707937667944,
                    2.343035866322791,
                    2.388183234953455,
                    2.4240867888916147,
                    2.4281209996170743,
                    2.452499593848775,
                    2.47935524369218,
                    2.476827610084145,
                    2.5,
                    2.138663267302709,
                    1.738173203713134,
                    1.7445104015497108,
                    1.7324051490251215,
                    1.9358891510359442,
                    2.0521271997214576,
                    2.123578784380171,
                    2.1535015430108393,
                    2.2170687285251733,
                    2.1830435949431135,
                    2.216804513011654,
                    2.247794896468916,
                    2.2294127141165907,
                    2.263598937561792,
                    2.242535277264886,
                    1.9407584262877589,
                    1.771123906597745,
                    1.849721233585152,
                    1.8826047394864593,
                    1.9098671939929854,
                    1.9114595919108606,
                    1.9163744506698
                  ]
                }
              ],
              "layout": {
                "annotations": [
                  {
                    "showarrow": false,
                    "text": "Avg. Reward",
                    "x": -5,
                    "y": 4,
                    "yshift": 10
                  },
                  {
                    "showarrow": false,
                    "text": "Episode Length",
                    "x": -5,
                    "y": 3,
                    "yshift": 10
                  },
                  {
                    "showarrow": false,
                    "text": "Avg Actor Loss",
                    "x": -5,
                    "y": 2,
                    "yshift": 10
                  },
                  {
                    "showarrow": false,
                    "text": "Avg Critic Loss",
                    "x": -5,
                    "y": 1,
                    "yshift": 10
                  }
                ],
                "showlegend": false,
                "template": {
                  "data": {
                    "bar": [
                      {
                        "error_x": {
                          "color": "#2a3f5f"
                        },
                        "error_y": {
                          "color": "#2a3f5f"
                        },
                        "marker": {
                          "line": {
                            "color": "#E5ECF6",
                            "width": 0.5
                          },
                          "pattern": {
                            "fillmode": "overlay",
                            "size": 10,
                            "solidity": 0.2
                          }
                        },
                        "type": "bar"
                      }
                    ],
                    "barpolar": [
                      {
                        "marker": {
                          "line": {
                            "color": "#E5ECF6",
                            "width": 0.5
                          },
                          "pattern": {
                            "fillmode": "overlay",
                            "size": 10,
                            "solidity": 0.2
                          }
                        },
                        "type": "barpolar"
                      }
                    ],
                    "carpet": [
                      {
                        "aaxis": {
                          "endlinecolor": "#2a3f5f",
                          "gridcolor": "white",
                          "linecolor": "white",
                          "minorgridcolor": "white",
                          "startlinecolor": "#2a3f5f"
                        },
                        "baxis": {
                          "endlinecolor": "#2a3f5f",
                          "gridcolor": "white",
                          "linecolor": "white",
                          "minorgridcolor": "white",
                          "startlinecolor": "#2a3f5f"
                        },
                        "type": "carpet"
                      }
                    ],
                    "choropleth": [
                      {
                        "colorbar": {
                          "outlinewidth": 0,
                          "ticks": ""
                        },
                        "type": "choropleth"
                      }
                    ],
                    "contour": [
                      {
                        "colorbar": {
                          "outlinewidth": 0,
                          "ticks": ""
                        },
                        "colorscale": [
                          [
                            0,
                            "#0d0887"
                          ],
                          [
                            0.1111111111111111,
                            "#46039f"
                          ],
                          [
                            0.2222222222222222,
                            "#7201a8"
                          ],
                          [
                            0.3333333333333333,
                            "#9c179e"
                          ],
                          [
                            0.4444444444444444,
                            "#bd3786"
                          ],
                          [
                            0.5555555555555556,
                            "#d8576b"
                          ],
                          [
                            0.6666666666666666,
                            "#ed7953"
                          ],
                          [
                            0.7777777777777778,
                            "#fb9f3a"
                          ],
                          [
                            0.8888888888888888,
                            "#fdca26"
                          ],
                          [
                            1,
                            "#f0f921"
                          ]
                        ],
                        "type": "contour"
                      }
                    ],
                    "contourcarpet": [
                      {
                        "colorbar": {
                          "outlinewidth": 0,
                          "ticks": ""
                        },
                        "type": "contourcarpet"
                      }
                    ],
                    "heatmap": [
                      {
                        "colorbar": {
                          "outlinewidth": 0,
                          "ticks": ""
                        },
                        "colorscale": [
                          [
                            0,
                            "#0d0887"
                          ],
                          [
                            0.1111111111111111,
                            "#46039f"
                          ],
                          [
                            0.2222222222222222,
                            "#7201a8"
                          ],
                          [
                            0.3333333333333333,
                            "#9c179e"
                          ],
                          [
                            0.4444444444444444,
                            "#bd3786"
                          ],
                          [
                            0.5555555555555556,
                            "#d8576b"
                          ],
                          [
                            0.6666666666666666,
                            "#ed7953"
                          ],
                          [
                            0.7777777777777778,
                            "#fb9f3a"
                          ],
                          [
                            0.8888888888888888,
                            "#fdca26"
                          ],
                          [
                            1,
                            "#f0f921"
                          ]
                        ],
                        "type": "heatmap"
                      }
                    ],
                    "heatmapgl": [
                      {
                        "colorbar": {
                          "outlinewidth": 0,
                          "ticks": ""
                        },
                        "colorscale": [
                          [
                            0,
                            "#0d0887"
                          ],
                          [
                            0.1111111111111111,
                            "#46039f"
                          ],
                          [
                            0.2222222222222222,
                            "#7201a8"
                          ],
                          [
                            0.3333333333333333,
                            "#9c179e"
                          ],
                          [
                            0.4444444444444444,
                            "#bd3786"
                          ],
                          [
                            0.5555555555555556,
                            "#d8576b"
                          ],
                          [
                            0.6666666666666666,
                            "#ed7953"
                          ],
                          [
                            0.7777777777777778,
                            "#fb9f3a"
                          ],
                          [
                            0.8888888888888888,
                            "#fdca26"
                          ],
                          [
                            1,
                            "#f0f921"
                          ]
                        ],
                        "type": "heatmapgl"
                      }
                    ],
                    "histogram": [
                      {
                        "marker": {
                          "pattern": {
                            "fillmode": "overlay",
                            "size": 10,
                            "solidity": 0.2
                          }
                        },
                        "type": "histogram"
                      }
                    ],
                    "histogram2d": [
                      {
                        "colorbar": {
                          "outlinewidth": 0,
                          "ticks": ""
                        },
                        "colorscale": [
                          [
                            0,
                            "#0d0887"
                          ],
                          [
                            0.1111111111111111,
                            "#46039f"
                          ],
                          [
                            0.2222222222222222,
                            "#7201a8"
                          ],
                          [
                            0.3333333333333333,
                            "#9c179e"
                          ],
                          [
                            0.4444444444444444,
                            "#bd3786"
                          ],
                          [
                            0.5555555555555556,
                            "#d8576b"
                          ],
                          [
                            0.6666666666666666,
                            "#ed7953"
                          ],
                          [
                            0.7777777777777778,
                            "#fb9f3a"
                          ],
                          [
                            0.8888888888888888,
                            "#fdca26"
                          ],
                          [
                            1,
                            "#f0f921"
                          ]
                        ],
                        "type": "histogram2d"
                      }
                    ],
                    "histogram2dcontour": [
                      {
                        "colorbar": {
                          "outlinewidth": 0,
                          "ticks": ""
                        },
                        "colorscale": [
                          [
                            0,
                            "#0d0887"
                          ],
                          [
                            0.1111111111111111,
                            "#46039f"
                          ],
                          [
                            0.2222222222222222,
                            "#7201a8"
                          ],
                          [
                            0.3333333333333333,
                            "#9c179e"
                          ],
                          [
                            0.4444444444444444,
                            "#bd3786"
                          ],
                          [
                            0.5555555555555556,
                            "#d8576b"
                          ],
                          [
                            0.6666666666666666,
                            "#ed7953"
                          ],
                          [
                            0.7777777777777778,
                            "#fb9f3a"
                          ],
                          [
                            0.8888888888888888,
                            "#fdca26"
                          ],
                          [
                            1,
                            "#f0f921"
                          ]
                        ],
                        "type": "histogram2dcontour"
                      }
                    ],
                    "mesh3d": [
                      {
                        "colorbar": {
                          "outlinewidth": 0,
                          "ticks": ""
                        },
                        "type": "mesh3d"
                      }
                    ],
                    "parcoords": [
                      {
                        "line": {
                          "colorbar": {
                            "outlinewidth": 0,
                            "ticks": ""
                          }
                        },
                        "type": "parcoords"
                      }
                    ],
                    "pie": [
                      {
                        "automargin": true,
                        "type": "pie"
                      }
                    ],
                    "scatter": [
                      {
                        "fillpattern": {
                          "fillmode": "overlay",
                          "size": 10,
                          "solidity": 0.2
                        },
                        "type": "scatter"
                      }
                    ],
                    "scatter3d": [
                      {
                        "line": {
                          "colorbar": {
                            "outlinewidth": 0,
                            "ticks": ""
                          }
                        },
                        "marker": {
                          "colorbar": {
                            "outlinewidth": 0,
                            "ticks": ""
                          }
                        },
                        "type": "scatter3d"
                      }
                    ],
                    "scattercarpet": [
                      {
                        "marker": {
                          "colorbar": {
                            "outlinewidth": 0,
                            "ticks": ""
                          }
                        },
                        "type": "scattercarpet"
                      }
                    ],
                    "scattergeo": [
                      {
                        "marker": {
                          "colorbar": {
                            "outlinewidth": 0,
                            "ticks": ""
                          }
                        },
                        "type": "scattergeo"
                      }
                    ],
                    "scattergl": [
                      {
                        "marker": {
                          "colorbar": {
                            "outlinewidth": 0,
                            "ticks": ""
                          }
                        },
                        "type": "scattergl"
                      }
                    ],
                    "scattermapbox": [
                      {
                        "marker": {
                          "colorbar": {
                            "outlinewidth": 0,
                            "ticks": ""
                          }
                        },
                        "type": "scattermapbox"
                      }
                    ],
                    "scatterpolar": [
                      {
                        "marker": {
                          "colorbar": {
                            "outlinewidth": 0,
                            "ticks": ""
                          }
                        },
                        "type": "scatterpolar"
                      }
                    ],
                    "scatterpolargl": [
                      {
                        "marker": {
                          "colorbar": {
                            "outlinewidth": 0,
                            "ticks": ""
                          }
                        },
                        "type": "scatterpolargl"
                      }
                    ],
                    "scatterternary": [
                      {
                        "marker": {
                          "colorbar": {
                            "outlinewidth": 0,
                            "ticks": ""
                          }
                        },
                        "type": "scatterternary"
                      }
                    ],
                    "surface": [
                      {
                        "colorbar": {
                          "outlinewidth": 0,
                          "ticks": ""
                        },
                        "colorscale": [
                          [
                            0,
                            "#0d0887"
                          ],
                          [
                            0.1111111111111111,
                            "#46039f"
                          ],
                          [
                            0.2222222222222222,
                            "#7201a8"
                          ],
                          [
                            0.3333333333333333,
                            "#9c179e"
                          ],
                          [
                            0.4444444444444444,
                            "#bd3786"
                          ],
                          [
                            0.5555555555555556,
                            "#d8576b"
                          ],
                          [
                            0.6666666666666666,
                            "#ed7953"
                          ],
                          [
                            0.7777777777777778,
                            "#fb9f3a"
                          ],
                          [
                            0.8888888888888888,
                            "#fdca26"
                          ],
                          [
                            1,
                            "#f0f921"
                          ]
                        ],
                        "type": "surface"
                      }
                    ],
                    "table": [
                      {
                        "cells": {
                          "fill": {
                            "color": "#EBF0F8"
                          },
                          "line": {
                            "color": "white"
                          }
                        },
                        "header": {
                          "fill": {
                            "color": "#C8D4E3"
                          },
                          "line": {
                            "color": "white"
                          }
                        },
                        "type": "table"
                      }
                    ]
                  },
                  "layout": {
                    "annotationdefaults": {
                      "arrowcolor": "#2a3f5f",
                      "arrowhead": 0,
                      "arrowwidth": 1
                    },
                    "autotypenumbers": "strict",
                    "coloraxis": {
                      "colorbar": {
                        "outlinewidth": 0,
                        "ticks": ""
                      }
                    },
                    "colorscale": {
                      "diverging": [
                        [
                          0,
                          "#8e0152"
                        ],
                        [
                          0.1,
                          "#c51b7d"
                        ],
                        [
                          0.2,
                          "#de77ae"
                        ],
                        [
                          0.3,
                          "#f1b6da"
                        ],
                        [
                          0.4,
                          "#fde0ef"
                        ],
                        [
                          0.5,
                          "#f7f7f7"
                        ],
                        [
                          0.6,
                          "#e6f5d0"
                        ],
                        [
                          0.7,
                          "#b8e186"
                        ],
                        [
                          0.8,
                          "#7fbc41"
                        ],
                        [
                          0.9,
                          "#4d9221"
                        ],
                        [
                          1,
                          "#276419"
                        ]
                      ],
                      "sequential": [
                        [
                          0,
                          "#0d0887"
                        ],
                        [
                          0.1111111111111111,
                          "#46039f"
                        ],
                        [
                          0.2222222222222222,
                          "#7201a8"
                        ],
                        [
                          0.3333333333333333,
                          "#9c179e"
                        ],
                        [
                          0.4444444444444444,
                          "#bd3786"
                        ],
                        [
                          0.5555555555555556,
                          "#d8576b"
                        ],
                        [
                          0.6666666666666666,
                          "#ed7953"
                        ],
                        [
                          0.7777777777777778,
                          "#fb9f3a"
                        ],
                        [
                          0.8888888888888888,
                          "#fdca26"
                        ],
                        [
                          1,
                          "#f0f921"
                        ]
                      ],
                      "sequentialminus": [
                        [
                          0,
                          "#0d0887"
                        ],
                        [
                          0.1111111111111111,
                          "#46039f"
                        ],
                        [
                          0.2222222222222222,
                          "#7201a8"
                        ],
                        [
                          0.3333333333333333,
                          "#9c179e"
                        ],
                        [
                          0.4444444444444444,
                          "#bd3786"
                        ],
                        [
                          0.5555555555555556,
                          "#d8576b"
                        ],
                        [
                          0.6666666666666666,
                          "#ed7953"
                        ],
                        [
                          0.7777777777777778,
                          "#fb9f3a"
                        ],
                        [
                          0.8888888888888888,
                          "#fdca26"
                        ],
                        [
                          1,
                          "#f0f921"
                        ]
                      ]
                    },
                    "colorway": [
                      "#636efa",
                      "#EF553B",
                      "#00cc96",
                      "#ab63fa",
                      "#FFA15A",
                      "#19d3f3",
                      "#FF6692",
                      "#B6E880",
                      "#FF97FF",
                      "#FECB52"
                    ],
                    "font": {
                      "color": "#2a3f5f"
                    },
                    "geo": {
                      "bgcolor": "white",
                      "lakecolor": "white",
                      "landcolor": "#E5ECF6",
                      "showlakes": true,
                      "showland": true,
                      "subunitcolor": "white"
                    },
                    "hoverlabel": {
                      "align": "left"
                    },
                    "hovermode": "closest",
                    "mapbox": {
                      "style": "light"
                    },
                    "paper_bgcolor": "white",
                    "plot_bgcolor": "#E5ECF6",
                    "polar": {
                      "angularaxis": {
                        "gridcolor": "white",
                        "linecolor": "white",
                        "ticks": ""
                      },
                      "bgcolor": "#E5ECF6",
                      "radialaxis": {
                        "gridcolor": "white",
                        "linecolor": "white",
                        "ticks": ""
                      }
                    },
                    "scene": {
                      "xaxis": {
                        "backgroundcolor": "#E5ECF6",
                        "gridcolor": "white",
                        "gridwidth": 2,
                        "linecolor": "white",
                        "showbackground": true,
                        "ticks": "",
                        "zerolinecolor": "white"
                      },
                      "yaxis": {
                        "backgroundcolor": "#E5ECF6",
                        "gridcolor": "white",
                        "gridwidth": 2,
                        "linecolor": "white",
                        "showbackground": true,
                        "ticks": "",
                        "zerolinecolor": "white"
                      },
                      "zaxis": {
                        "backgroundcolor": "#E5ECF6",
                        "gridcolor": "white",
                        "gridwidth": 2,
                        "linecolor": "white",
                        "showbackground": true,
                        "ticks": "",
                        "zerolinecolor": "white"
                      }
                    },
                    "shapedefaults": {
                      "line": {
                        "color": "#2a3f5f"
                      }
                    },
                    "ternary": {
                      "aaxis": {
                        "gridcolor": "white",
                        "linecolor": "white",
                        "ticks": ""
                      },
                      "baxis": {
                        "gridcolor": "white",
                        "linecolor": "white",
                        "ticks": ""
                      },
                      "bgcolor": "#E5ECF6",
                      "caxis": {
                        "gridcolor": "white",
                        "linecolor": "white",
                        "ticks": ""
                      }
                    },
                    "title": {
                      "x": 0.05
                    },
                    "xaxis": {
                      "automargin": true,
                      "gridcolor": "white",
                      "linecolor": "white",
                      "ticks": "",
                      "title": {
                        "standoff": 15
                      },
                      "zerolinecolor": "white",
                      "zerolinewidth": 2
                    },
                    "yaxis": {
                      "automargin": true,
                      "gridcolor": "white",
                      "linecolor": "white",
                      "ticks": "",
                      "title": {
                        "standoff": 15
                      },
                      "zerolinecolor": "white",
                      "zerolinewidth": 2
                    }
                  }
                },
                "xaxis": {
                  "title": {
                    "text": "Episode"
                  }
                },
                "yaxis": {
                  "showticklabels": false,
                  "title": {}
                }
              }
            }
          },
          "metadata": {},
          "output_type": "display_data"
        }
      ],
      "source": [
        "# Just another visualization of the data\n",
        "data = pl.DataFrame({\n",
        "    'Avg. Reward': avg_reward_list,\n",
        "    'Episode Length': ep_len_list,\n",
        "    'Avg Actor Loss': ep_actor_loss,\n",
        "    'Avg Critic Loss': ep_critic_loss,\n",
        "})\n",
        "# Add an index column\n",
        "data = data.with_columns(Episode=pl.int_range(0, len(avg_reward_list)))\n",
        "ridgeplot(data, x='Episode', z=['Avg. Reward', 'Episode Length', 'Avg Actor Loss', 'Avg Critic Loss'])\n"
      ]
    },
    {
      "cell_type": "code",
      "execution_count": null,
      "metadata": {},
      "outputs": [],
      "source": [
        "# I made this the other day and want to show it off\n",
        "from Cope.meme import look_at_this_graph\n",
        "look_at_this_graph(fig)"
      ]
    },
    {
      "cell_type": "markdown",
      "metadata": {
        "id": "PJ2kaWXmJxlx"
      },
      "source": [
        "If training proceeds correctly, the average episodic reward will increase with time.\n",
        "\n",
        "Feel free to try different learning rates, `tau` values, and architectures for the\n",
        "Actor and Critic networks.\n",
        "\n",
        "The Inverted Pendulum problem has low complexity, but DDPG work great on many other\n",
        "problems.\n",
        "\n",
        "Another great environment to try this on is `LunarLandingContinuous-v2`, but it will take\n",
        "more episodes to obtain good results."
      ]
    },
    {
      "cell_type": "code",
      "execution_count": 274,
      "metadata": {
        "id": "bPcsNHBJJxlx"
      },
      "outputs": [],
      "source": [
        "# Save the weights\n",
        "if False:\n",
        "    actor_model.save_weights(\"pendulum_actor.h5\")\n",
        "    critic_model.save_weights(\"pendulum_critic.h5\")\n",
        "\n",
        "    target_actor.save_weights(\"pendulum_target_actor.h5\")\n",
        "    target_critic.save_weights(\"pendulum_target_critic.h5\")"
      ]
    }
  ],
  "metadata": {
    "accelerator": "GPU",
    "colab": {
      "provenance": [],
      "toc_visible": true
    },
    "kernelspec": {
      "display_name": "Python 3",
      "language": "python",
      "name": "python3"
    },
    "language_info": {
      "codemirror_mode": {
        "name": "ipython",
        "version": 3
      },
      "file_extension": ".py",
      "mimetype": "text/x-python",
      "name": "python",
      "nbconvert_exporter": "python",
      "pygments_lexer": "ipython3",
      "version": "3.11.7"
    }
  },
  "nbformat": 4,
  "nbformat_minor": 0
}
